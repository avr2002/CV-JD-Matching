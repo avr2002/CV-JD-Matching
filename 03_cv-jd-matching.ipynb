{
 "cells": [
  {
   "cell_type": "markdown",
   "id": "12d3bacb-0394-4688-b1c7-4bc806264b2c",
   "metadata": {},
   "source": [
    "## Import"
   ]
  },
  {
   "cell_type": "code",
   "execution_count": 1,
   "id": "3136cda3-2afa-45ee-b016-449fe8dde6c1",
   "metadata": {
    "tags": []
   },
   "outputs": [],
   "source": [
    "import numpy as np\n",
    "import pandas as pd\n",
    "\n",
    "import re\n",
    "import string # for text cleaning\n",
    "import contractions # for expanding short form words\n",
    "from tqdm import tqdm\n",
    "tqdm.pandas(desc=\"Progress Bar\")\n",
    "\n",
    "import torch\n",
    "from datasets import load_dataset\n",
    "from transformers import DistilBertTokenizer, DistilBertModel\n",
    "from sklearn.metrics.pairwise import cosine_similarity"
   ]
  },
  {
   "cell_type": "markdown",
   "id": "9e669896-f8d4-4f63-905f-d8099646605c",
   "metadata": {},
   "source": [
    "## Loading JD Data"
   ]
  },
  {
   "cell_type": "code",
   "execution_count": 2,
   "id": "8a69dba4-c7e1-4a30-9088-586a0617bfb5",
   "metadata": {
    "tags": []
   },
   "outputs": [
    {
     "data": {
      "text/plain": [
       "Dataset({\n",
       "    features: ['company_name', 'job_description', 'position_title', 'description_length', 'model_response'],\n",
       "    num_rows: 853\n",
       "})"
      ]
     },
     "execution_count": 2,
     "metadata": {},
     "output_type": "execute_result"
    }
   ],
   "source": [
    "jd_data = load_dataset('jacob-hugging-face/job-descriptions', split=\"train\")\n",
    "jd_data"
   ]
  },
  {
   "cell_type": "code",
   "execution_count": 3,
   "id": "0631d48c-94c8-4f28-9bbb-2457c060af1a",
   "metadata": {
    "tags": []
   },
   "outputs": [
    {
     "data": {
      "text/html": [
       "<div>\n",
       "<style scoped>\n",
       "    .dataframe tbody tr th:only-of-type {\n",
       "        vertical-align: middle;\n",
       "    }\n",
       "\n",
       "    .dataframe tbody tr th {\n",
       "        vertical-align: top;\n",
       "    }\n",
       "\n",
       "    .dataframe thead th {\n",
       "        text-align: right;\n",
       "    }\n",
       "</style>\n",
       "<table border=\"1\" class=\"dataframe\">\n",
       "  <thead>\n",
       "    <tr style=\"text-align: right;\">\n",
       "      <th></th>\n",
       "      <th>company_name</th>\n",
       "      <th>job_description</th>\n",
       "      <th>position_title</th>\n",
       "      <th>description_length</th>\n",
       "      <th>model_response</th>\n",
       "    </tr>\n",
       "  </thead>\n",
       "  <tbody>\n",
       "    <tr>\n",
       "      <th>0</th>\n",
       "      <td>Google</td>\n",
       "      <td>minimum qualifications\\nbachelors degree or eq...</td>\n",
       "      <td>Sales Specialist</td>\n",
       "      <td>2727</td>\n",
       "      <td>{\\n  \"Core Responsibilities\": \"Responsible fo...</td>\n",
       "    </tr>\n",
       "    <tr>\n",
       "      <th>1</th>\n",
       "      <td>Apple</td>\n",
       "      <td>description\\nas an asc you will be highly infl...</td>\n",
       "      <td>Apple Solutions Consultant</td>\n",
       "      <td>828</td>\n",
       "      <td>{\\n  \"Core Responsibilities\": \"as an asc you ...</td>\n",
       "    </tr>\n",
       "    <tr>\n",
       "      <th>2</th>\n",
       "      <td>Netflix</td>\n",
       "      <td>its an amazing time to be joining netflix as w...</td>\n",
       "      <td>Licensing Coordinator - Consumer Products</td>\n",
       "      <td>3205</td>\n",
       "      <td>{\\n  \"Core Responsibilities\": \"Help drive bus...</td>\n",
       "    </tr>\n",
       "    <tr>\n",
       "      <th>3</th>\n",
       "      <td>Robert Half</td>\n",
       "      <td>description\\n\\nweb designers looking to expand...</td>\n",
       "      <td>Web Designer</td>\n",
       "      <td>2489</td>\n",
       "      <td>{\\n  \"Core Responsibilities\": \"Designing webs...</td>\n",
       "    </tr>\n",
       "    <tr>\n",
       "      <th>4</th>\n",
       "      <td>TrackFive</td>\n",
       "      <td>at trackfive weve got big goals were on a miss...</td>\n",
       "      <td>Web Developer</td>\n",
       "      <td>3167</td>\n",
       "      <td>{\\n  \"Core Responsibilities\": \"Build and layo...</td>\n",
       "    </tr>\n",
       "  </tbody>\n",
       "</table>\n",
       "</div>"
      ],
      "text/plain": [
       "  company_name                                    job_description  \\\n",
       "0       Google  minimum qualifications\\nbachelors degree or eq...   \n",
       "1        Apple  description\\nas an asc you will be highly infl...   \n",
       "2      Netflix  its an amazing time to be joining netflix as w...   \n",
       "3  Robert Half  description\\n\\nweb designers looking to expand...   \n",
       "4    TrackFive  at trackfive weve got big goals were on a miss...   \n",
       "\n",
       "                              position_title  description_length  \\\n",
       "0                           Sales Specialist                2727   \n",
       "1                 Apple Solutions Consultant                 828   \n",
       "2  Licensing Coordinator - Consumer Products                3205   \n",
       "3                               Web Designer                2489   \n",
       "4                              Web Developer                3167   \n",
       "\n",
       "                                      model_response  \n",
       "0   {\\n  \"Core Responsibilities\": \"Responsible fo...  \n",
       "1   {\\n  \"Core Responsibilities\": \"as an asc you ...  \n",
       "2   {\\n  \"Core Responsibilities\": \"Help drive bus...  \n",
       "3   {\\n  \"Core Responsibilities\": \"Designing webs...  \n",
       "4   {\\n  \"Core Responsibilities\": \"Build and layo...  "
      ]
     },
     "execution_count": 3,
     "metadata": {},
     "output_type": "execute_result"
    }
   ],
   "source": [
    "jd_df = pd.DataFrame(jd_data)\n",
    "jd_df.head()"
   ]
  },
  {
   "cell_type": "code",
   "execution_count": 4,
   "id": "49f15549-f74e-4109-8e05-8499a528fd77",
   "metadata": {
    "scrolled": true,
    "tags": []
   },
   "outputs": [
    {
     "name": "stdout",
     "output_type": "stream",
     "text": [
      "minimum qualifications\n",
      "bachelors degree or equivalent practical experience years of experience in saas or productivity tools businessexperience managing enterprise accounts with sales cycles\n",
      "preferred qualifications\n",
      " years of experience building strategic business partnerships with enterprise customersability to work through and with a reseller ecosystem to scale the businessability to plan pitch and execute a territory business strategyability to build relationships and to deliver results in a crossfunctionalmatrixed environmentability to identify crosspromoting and uppromoting opportunities within the existing account baseexcellent account management writtenverbal communication strategic and analyticalthinking skills\n",
      "about the job\n",
      "as a member of the google cloud team you inspire leading companies schools and government agencies to work smarter with google tools like google workspace search and chrome you advocate the innovative power of our products to make organizations more productive collaborative and mobile your guiding light is doing whats right for the customer you will meet customers exactly where they are at and provide them the best solutions for innovation using your passion for google products you help spread the magic of google to organizations around the world\n",
      "the google workspace team helps customers transform and evolve their business through the use of googles productivity collaboration and content management suite of applications as part of an entrepreneurial team in this growing business you will help shape the future of businesses use technology to connect with customers employees and partners\n",
      "as a google workspace sales specialist you will be responsible for maintenance and expansion of google workspace business growth across the region with customers in this role youll create and execute the strategy and provide unique insights on applying google workspace solutions to enterprisesyou will build an excellent pipeline and work with the account teams to build out the customer solution and establish partnerships you will strategize with partners to increase account and territory business growth you will work directly with customers coordinate internal resources and construct successful strategies at account and territory level\n",
      "google cloud accelerates organizations ability to digitally transform their business with the best infrastructure platform industry solutions and expertise we deliver enterprisegrade solutions that leverage googles cuttingedge technology  all on the cleanest cloud in the industry customers in more than  countries and territories turn to google cloud as their trusted partner to enable growth and solve their most critical business problems\n"
     ]
    }
   ],
   "source": [
    "# Sample JD\n",
    "\n",
    "# jd_df['model_response'][0]\n",
    "print(jd_df['job_description'][0])"
   ]
  },
  {
   "cell_type": "markdown",
   "id": "89b1d16a-e859-4256-b83a-525f0a780749",
   "metadata": {},
   "source": [
    "## Loading Extracted CV Data"
   ]
  },
  {
   "cell_type": "code",
   "execution_count": 5,
   "id": "d36e68a3-c01e-4159-82da-58572a65d61a",
   "metadata": {
    "tags": []
   },
   "outputs": [
    {
     "data": {
      "text/html": [
       "<div>\n",
       "<style scoped>\n",
       "    .dataframe tbody tr th:only-of-type {\n",
       "        vertical-align: middle;\n",
       "    }\n",
       "\n",
       "    .dataframe tbody tr th {\n",
       "        vertical-align: top;\n",
       "    }\n",
       "\n",
       "    .dataframe thead th {\n",
       "        text-align: right;\n",
       "    }\n",
       "</style>\n",
       "<table border=\"1\" class=\"dataframe\">\n",
       "  <thead>\n",
       "    <tr style=\"text-align: right;\">\n",
       "      <th></th>\n",
       "      <th>Skills</th>\n",
       "      <th>Education</th>\n",
       "      <th>ID</th>\n",
       "      <th>Category</th>\n",
       "    </tr>\n",
       "  </thead>\n",
       "  <tbody>\n",
       "    <tr>\n",
       "      <th>0</th>\n",
       "      <td>Accounting; General Accounting; Accounts Payab...</td>\n",
       "      <td>Northern Maine Community College 1994 Associat...</td>\n",
       "      <td>10554236</td>\n",
       "      <td>ACCOUNTANT</td>\n",
       "    </tr>\n",
       "    <tr>\n",
       "      <th>1</th>\n",
       "      <td>accounting, accounts payable, Accounts Receiva...</td>\n",
       "      <td>Bachelor of Science : Accounting , May 2010 Un...</td>\n",
       "      <td>10674770</td>\n",
       "      <td>ACCOUNTANT</td>\n",
       "    </tr>\n",
       "    <tr>\n",
       "      <th>2</th>\n",
       "      <td>accounts payables, accounts receivables, Accou...</td>\n",
       "      <td>Computer Applications Specialist Certificate P...</td>\n",
       "      <td>11163645</td>\n",
       "      <td>ACCOUNTANT</td>\n",
       "    </tr>\n",
       "    <tr>\n",
       "      <th>3</th>\n",
       "      <td>accounting, balance sheet, budgets, client, cl...</td>\n",
       "      <td>EMORY UNIVERSITY, Goizueta Business School 5 2...</td>\n",
       "      <td>11759079</td>\n",
       "      <td>ACCOUNTANT</td>\n",
       "    </tr>\n",
       "    <tr>\n",
       "      <th>4</th>\n",
       "      <td>Aderant/CMS Financial reporting</td>\n",
       "      <td>Bachelor of Business Administration : Accounti...</td>\n",
       "      <td>12065211</td>\n",
       "      <td>ACCOUNTANT</td>\n",
       "    </tr>\n",
       "  </tbody>\n",
       "</table>\n",
       "</div>"
      ],
      "text/plain": [
       "                                              Skills  \\\n",
       "0  Accounting; General Accounting; Accounts Payab...   \n",
       "1  accounting, accounts payable, Accounts Receiva...   \n",
       "2  accounts payables, accounts receivables, Accou...   \n",
       "3  accounting, balance sheet, budgets, client, cl...   \n",
       "4                    Aderant/CMS Financial reporting   \n",
       "\n",
       "                                           Education        ID    Category  \n",
       "0  Northern Maine Community College 1994 Associat...  10554236  ACCOUNTANT  \n",
       "1  Bachelor of Science : Accounting , May 2010 Un...  10674770  ACCOUNTANT  \n",
       "2  Computer Applications Specialist Certificate P...  11163645  ACCOUNTANT  \n",
       "3  EMORY UNIVERSITY, Goizueta Business School 5 2...  11759079  ACCOUNTANT  \n",
       "4  Bachelor of Business Administration : Accounti...  12065211  ACCOUNTANT  "
      ]
     },
     "execution_count": 5,
     "metadata": {},
     "output_type": "execute_result"
    }
   ],
   "source": [
    "df = pd.read_csv('pdf_extracted_skills_education.csv')\n",
    "df.head()"
   ]
  },
  {
   "cell_type": "code",
   "execution_count": 6,
   "id": "172adcaa-33f0-45c4-96d1-9873f8dc8d3d",
   "metadata": {
    "tags": []
   },
   "outputs": [
    {
     "data": {
      "text/plain": [
       "(2484, 4)"
      ]
     },
     "execution_count": 6,
     "metadata": {},
     "output_type": "execute_result"
    }
   ],
   "source": [
    "df.shape"
   ]
  },
  {
   "cell_type": "markdown",
   "id": "2c1b50a2-7e49-44d5-bbfe-3b2793045eff",
   "metadata": {},
   "source": [
    "## Basic text cleaning\n",
    "\n",
    "And doing some preprocessing in the data as discussed in the EDA notebook"
   ]
  },
  {
   "cell_type": "code",
   "execution_count": 7,
   "id": "562a127d-840b-4962-afaf-8e40ca155908",
   "metadata": {
    "tags": []
   },
   "outputs": [],
   "source": [
    "def text_cleaning(text:str) -> str:\n",
    "    if pd.isnull(text):\n",
    "        return\n",
    "    \n",
    "    # lower-case everything\n",
    "    text = text.lower().strip()\n",
    "    \n",
    "    # For removing puctuations\n",
    "    translator = str.maketrans('', '', string.punctuation)\n",
    "    \n",
    "    # expand all the short-form words\n",
    "    text = contractions.fix(text)\n",
    "    \n",
    "    # remove any special chars\n",
    "    text = re.sub(r'http\\S+|www\\S+|https\\S+', '', text) # Remove URLs\n",
    "    text = re.sub(r'\\S+@\\S+', '', text) # Remove emails\n",
    "    text = re.sub(r'\\b\\d{1,3}[-./]?\\d{1,3}[-./]?\\d{1,4}\\b', '', text) # Remove phone numbers\n",
    "    text = text.translate(translator) # Remove puctuations\n",
    "    text = re.sub(r'[^a-zA-Z]', ' ', text) # Remove other non-alphanumeric characters\n",
    "    \n",
    "    return text.strip()"
   ]
  },
  {
   "cell_type": "code",
   "execution_count": 8,
   "id": "15b91c7f-77a8-4b63-9095-351009bc62a0",
   "metadata": {
    "tags": []
   },
   "outputs": [
    {
     "name": "stderr",
     "output_type": "stream",
     "text": [
      "Progress Bar: 100%|██████████████████████████████████████████████████████████████| 2469/2469 [00:00<00:00, 9281.67it/s]\n"
     ]
    }
   ],
   "source": [
    "# We have 15 Resumes where Skills & Education were not extracted -- REFER EDA notebook\n",
    "# So, let's remove them\n",
    "cv_df = df[~(df['Skills'].isna() & df['Education'].isna())].reset_index(drop=True)\n",
    "\n",
    "# Filling the null values in Skills & Education with Empty String before concatinating them\n",
    "cv_df = cv_df.fillna(value='')\n",
    "\n",
    "# Let's stitch together Skills & Education, similar to given in job description.\n",
    "cv_df['CV'] = cv_df['Skills'] + ' ' + cv_df['Education']\n",
    "\n",
    "# Doing text cleaning\n",
    "cv_df['CV'] = cv_df['CV'].progress_apply(text_cleaning)"
   ]
  },
  {
   "cell_type": "code",
   "execution_count": 9,
   "id": "d26c39b1-ddff-4782-9816-4a5e25d188d1",
   "metadata": {
    "tags": []
   },
   "outputs": [
    {
     "data": {
      "text/plain": [
       "(2469, 5)"
      ]
     },
     "execution_count": 9,
     "metadata": {},
     "output_type": "execute_result"
    }
   ],
   "source": [
    "cv_df.shape"
   ]
  },
  {
   "cell_type": "code",
   "execution_count": 10,
   "id": "39c8d441-e324-4560-96d9-40ebe21343c2",
   "metadata": {
    "tags": []
   },
   "outputs": [],
   "source": [
    "# Sample job descriptions\n",
    "job_descriptions = jd_df['job_description'].apply(text_cleaning)[:15].to_list() # jd_df['job_description'][:15]\n",
    "\n",
    "# Sample resumes (replace with your extracted resume data)\n",
    "resumes = cv_df['CV'].to_list()"
   ]
  },
  {
   "cell_type": "markdown",
   "id": "ca874cc5-d4bd-4b6b-839e-3382eb71b142",
   "metadata": {},
   "source": [
    "## Creating Embedding using `DistilBertTokenizer`, `DistilBertModel`"
   ]
  },
  {
   "cell_type": "code",
   "execution_count": 11,
   "id": "5d023b6f-64d5-469a-9cdc-f5cbcbf60d70",
   "metadata": {
    "scrolled": true,
    "tags": []
   },
   "outputs": [
    {
     "name": "stdout",
     "output_type": "stream",
     "text": [
      "CPU times: total: 8min 26s\n",
      "Wall time: 8min 37s\n"
     ]
    }
   ],
   "source": [
    "%%time\n",
    "\n",
    "# Initialize the DistilBERT tokenizer and model\n",
    "tokenizer = DistilBertTokenizer.from_pretrained('distilbert-base-uncased')\n",
    "model = DistilBertModel.from_pretrained('distilbert-base-uncased')\n",
    "\n",
    "\n",
    "# Tokenize and embed job descriptions\n",
    "job_description_embeddings = []\n",
    "for description in job_descriptions:\n",
    "    tokens = tokenizer(description, padding=True, truncation=True, return_tensors='pt')\n",
    "    with torch.no_grad():\n",
    "        output = model(**tokens)\n",
    "    embeddings = output.last_hidden_state.mean(dim=1).numpy()\n",
    "    job_description_embeddings.append(embeddings[0])  # Flatten the embeddings to 1D\n",
    "\n",
    "# Tokenize and embed resumes\n",
    "resume_embeddings = []\n",
    "for resume in resumes:\n",
    "    tokens = tokenizer(resume, padding=True, truncation=True, return_tensors='pt')\n",
    "    with torch.no_grad():\n",
    "        output = model(**tokens)\n",
    "    embeddings = output.last_hidden_state.mean(dim=1).numpy()\n",
    "    resume_embeddings.append(embeddings[0])  # Flatten the embeddings to 1D"
   ]
  },
  {
   "cell_type": "code",
   "execution_count": 12,
   "id": "4186de99-7674-4821-ba16-a3dcd22ef709",
   "metadata": {
    "tags": []
   },
   "outputs": [
    {
     "data": {
      "text/plain": [
       "((768,), (768,))"
      ]
     },
     "execution_count": 12,
     "metadata": {},
     "output_type": "execute_result"
    }
   ],
   "source": [
    "job_description_embeddings[0].shape, resume_embeddings[0].shape"
   ]
  },
  {
   "cell_type": "code",
   "execution_count": 13,
   "id": "d5673e56-c1cc-493a-8c9f-bd0385bd8ab8",
   "metadata": {
    "tags": []
   },
   "outputs": [
    {
     "data": {
      "text/plain": [
       "(15, 2469)"
      ]
     },
     "execution_count": 13,
     "metadata": {},
     "output_type": "execute_result"
    }
   ],
   "source": [
    "len(job_description_embeddings), len(resume_embeddings)"
   ]
  },
  {
   "cell_type": "markdown",
   "id": "e9f43098-36fc-43f0-b3b1-2d728f4d058d",
   "metadata": {},
   "source": [
    "## Calculating Similarity Score & Getting Top 5 Candidates"
   ]
  },
  {
   "cell_type": "code",
   "execution_count": 14,
   "id": "9787975e-d89f-475c-971f-a0a79f36cee3",
   "metadata": {
    "scrolled": true,
    "tags": []
   },
   "outputs": [
    {
     "data": {
      "text/plain": [
       "array([[0.8208877 , 0.77677274, 0.7848917 , ..., 0.8589794 , 0.7705458 ,\n",
       "        0.60554796],\n",
       "       [0.78442514, 0.7171359 , 0.7481307 , ..., 0.83248657, 0.7884387 ,\n",
       "        0.67844903],\n",
       "       [0.81398594, 0.7895927 , 0.7836369 , ..., 0.84983313, 0.7580299 ,\n",
       "        0.62026304],\n",
       "       ...,\n",
       "       [0.81677645, 0.77088434, 0.7748317 , ..., 0.884326  , 0.7708576 ,\n",
       "        0.6345934 ],\n",
       "       [0.84390724, 0.7782758 , 0.79714596, ..., 0.878319  , 0.825198  ,\n",
       "        0.6813815 ],\n",
       "       [0.8330029 , 0.78734815, 0.77523583, ..., 0.8890796 , 0.78422546,\n",
       "        0.6448567 ]], dtype=float32)"
      ]
     },
     "execution_count": 14,
     "metadata": {},
     "output_type": "execute_result"
    }
   ],
   "source": [
    "# Calculate cosine similarity between job descriptions and resumes\n",
    "similarity_scores = cosine_similarity(job_description_embeddings, resume_embeddings)\n",
    "similarity_scores"
   ]
  },
  {
   "cell_type": "code",
   "execution_count": 15,
   "id": "8ac47a3b-0fb4-4139-a409-046bf9ec1d63",
   "metadata": {
    "tags": []
   },
   "outputs": [
    {
     "name": "stdout",
     "output_type": "stream",
     "text": [
      "Top candidates for JD 1 - Postition: Sales Specialist\n",
      "  Candidate 1949 - Similarity Score: 0.9415 - HR/18827609.pdf\n",
      "  Candidate 291 - Similarity Score: 0.9388 - AGRICULTURE/62994611.pdf\n",
      "  Candidate 478 - Similarity Score: 0.9387 - ARTS/43622023.pdf\n",
      "  Candidate 28 - Similarity Score: 0.9377 - ACCOUNTANT/16237710.pdf\n",
      "  Candidate 1803 - Similarity Score: 0.9314 - HEALTHCARE/10466208.pdf\n",
      "\n",
      "Top candidates for JD 2 - Postition: Apple Solutions Consultant\n",
      "  Candidate 168 - Similarity Score: 0.9236 - ADVOCATE/22391901.pdf\n",
      "  Candidate 904 - Similarity Score: 0.9165 - BUSINESS-DEVELOPMENT/95382114.pdf\n",
      "  Candidate 1730 - Similarity Score: 0.9159 - FITNESS/21238396.pdf\n",
      "  Candidate 952 - Similarity Score: 0.9155 - CHEF/21869994.pdf\n",
      "  Candidate 482 - Similarity Score: 0.9146 - ARTS/54100393.pdf\n",
      "\n",
      "Top candidates for JD 3 - Postition: Licensing Coordinator - Consumer Products\n",
      "  Candidate 478 - Similarity Score: 0.9598 - ARTS/43622023.pdf\n",
      "  Candidate 2153 - Similarity Score: 0.9496 - PUBLIC-RELATIONS/12237267.pdf\n",
      "  Candidate 1189 - Similarity Score: 0.9458 - CONSULTANT/26234972.pdf\n",
      "  Candidate 2271 - Similarity Score: 0.9440 - SALES/15620421.pdf\n",
      "  Candidate 1803 - Similarity Score: 0.9428 - HEALTHCARE/10466208.pdf\n",
      "\n",
      "Top candidates for JD 4 - Postition: Web Designer\n",
      "  Candidate 1279 - Similarity Score: 0.9487 - DESIGNER/18979238.pdf\n",
      "  Candidate 1949 - Similarity Score: 0.9438 - HR/18827609.pdf\n",
      "  Candidate 478 - Similarity Score: 0.9380 - ARTS/43622023.pdf\n",
      "  Candidate 1009 - Similarity Score: 0.9357 - CHEF/53265899.pdf\n",
      "  Candidate 2444 - Similarity Score: 0.9341 - TEACHER/37660306.pdf\n",
      "\n",
      "Top candidates for JD 5 - Postition: Web Developer\n",
      "  Candidate 291 - Similarity Score: 0.9501 - AGRICULTURE/62994611.pdf\n",
      "  Candidate 478 - Similarity Score: 0.9465 - ARTS/43622023.pdf\n",
      "  Candidate 1279 - Similarity Score: 0.9446 - DESIGNER/18979238.pdf\n",
      "  Candidate 1368 - Similarity Score: 0.9408 - DIGITAL-MEDIA/14761906.pdf\n",
      "  Candidate 1949 - Similarity Score: 0.9378 - HR/18827609.pdf\n",
      "\n",
      "Top candidates for JD 6 - Postition: Frontend Web Developer\n",
      "  Candidate 1327 - Similarity Score: 0.9255 - DESIGNER/36269672.pdf\n",
      "  Candidate 1730 - Similarity Score: 0.9244 - FITNESS/21238396.pdf\n",
      "  Candidate 1358 - Similarity Score: 0.9191 - DIGITAL-MEDIA/11270462.pdf\n",
      "  Candidate 2254 - Similarity Score: 0.9169 - SALES/10464113.pdf\n",
      "  Candidate 482 - Similarity Score: 0.9167 - ARTS/54100393.pdf\n",
      "\n",
      "Top candidates for JD 7 - Postition: Remote Website Designer\n",
      "  Candidate 478 - Similarity Score: 0.9613 - ARTS/43622023.pdf\n",
      "  Candidate 1949 - Similarity Score: 0.9590 - HR/18827609.pdf\n",
      "  Candidate 2153 - Similarity Score: 0.9581 - PUBLIC-RELATIONS/12237267.pdf\n",
      "  Candidate 1979 - Similarity Score: 0.9579 - HR/27165830.pdf\n",
      "  Candidate 291 - Similarity Score: 0.9574 - AGRICULTURE/62994611.pdf\n",
      "\n",
      "Top candidates for JD 8 - Postition: Web Designer\n",
      "  Candidate 478 - Similarity Score: 0.9577 - ARTS/43622023.pdf\n",
      "  Candidate 1949 - Similarity Score: 0.9530 - HR/18827609.pdf\n",
      "  Candidate 2153 - Similarity Score: 0.9480 - PUBLIC-RELATIONS/12237267.pdf\n",
      "  Candidate 1960 - Similarity Score: 0.9478 - HR/21830565.pdf\n",
      "  Candidate 482 - Similarity Score: 0.9469 - ARTS/54100393.pdf\n",
      "\n",
      "Top candidates for JD 9 - Postition: Web Designer\n",
      "  Candidate 291 - Similarity Score: 0.9542 - AGRICULTURE/62994611.pdf\n",
      "  Candidate 1949 - Similarity Score: 0.9494 - HR/18827609.pdf\n",
      "  Candidate 478 - Similarity Score: 0.9493 - ARTS/43622023.pdf\n",
      "  Candidate 1155 - Similarity Score: 0.9447 - CONSULTANT/15119529.pdf\n",
      "  Candidate 2172 - Similarity Score: 0.9434 - PUBLIC-RELATIONS/16620172.pdf\n",
      "\n",
      "Top candidates for JD 10 - Postition: SR. Web Designer\n",
      "  Candidate 1562 - Similarity Score: 0.9600 - ENGINEERING/82125182.pdf\n",
      "  Candidate 291 - Similarity Score: 0.9570 - AGRICULTURE/62994611.pdf\n",
      "  Candidate 1960 - Similarity Score: 0.9540 - HR/21830565.pdf\n",
      "  Candidate 1979 - Similarity Score: 0.9518 - HR/27165830.pdf\n",
      "  Candidate 1949 - Similarity Score: 0.9490 - HR/18827609.pdf\n",
      "\n",
      "Top candidates for JD 11 - Postition: Web Developer\n",
      "  Candidate 1949 - Similarity Score: 0.9611 - HR/18827609.pdf\n",
      "  Candidate 291 - Similarity Score: 0.9564 - AGRICULTURE/62994611.pdf\n",
      "  Candidate 1155 - Similarity Score: 0.9562 - CONSULTANT/15119529.pdf\n",
      "  Candidate 2153 - Similarity Score: 0.9556 - PUBLIC-RELATIONS/12237267.pdf\n",
      "  Candidate 2299 - Similarity Score: 0.9531 - SALES/22319662.pdf\n",
      "\n",
      "Top candidates for JD 12 - Postition: Web Developer\n",
      "  Candidate 478 - Similarity Score: 0.9592 - ARTS/43622023.pdf\n",
      "  Candidate 465 - Similarity Score: 0.9465 - ARTS/34146825.pdf\n",
      "  Candidate 1279 - Similarity Score: 0.9449 - DESIGNER/18979238.pdf\n",
      "  Candidate 291 - Similarity Score: 0.9448 - AGRICULTURE/62994611.pdf\n",
      "  Candidate 1949 - Similarity Score: 0.9433 - HR/18827609.pdf\n",
      "\n",
      "Top candidates for JD 13 - Postition: Senior UI Designer\n",
      "  Candidate 478 - Similarity Score: 0.9459 - ARTS/43622023.pdf\n",
      "  Candidate 1279 - Similarity Score: 0.9446 - DESIGNER/18979238.pdf\n",
      "  Candidate 1949 - Similarity Score: 0.9428 - HR/18827609.pdf\n",
      "  Candidate 291 - Similarity Score: 0.9390 - AGRICULTURE/62994611.pdf\n",
      "  Candidate 1327 - Similarity Score: 0.9375 - DESIGNER/36269672.pdf\n",
      "\n",
      "Top candidates for JD 14 - Postition: Wordpress Web Developer\n",
      "  Candidate 1307 - Similarity Score: 0.9450 - DESIGNER/26790545.pdf\n",
      "  Candidate 2091 - Similarity Score: 0.9286 - INFORMATION-TECHNOLOGY/26768723.pdf\n",
      "  Candidate 1231 - Similarity Score: 0.9286 - CONSULTANT/65062795.pdf\n",
      "  Candidate 1416 - Similarity Score: 0.9174 - DIGITAL-MEDIA/27981289.pdf\n",
      "  Candidate 238 - Similarity Score: 0.9129 - AGRICULTURE/11676151.pdf\n",
      "\n",
      "Top candidates for JD 15 - Postition: UI Web Designer\n",
      "  Candidate 482 - Similarity Score: 0.9563 - ARTS/54100393.pdf\n",
      "  Candidate 478 - Similarity Score: 0.9542 - ARTS/43622023.pdf\n",
      "  Candidate 1279 - Similarity Score: 0.9516 - DESIGNER/18979238.pdf\n",
      "  Candidate 291 - Similarity Score: 0.9499 - AGRICULTURE/62994611.pdf\n",
      "  Candidate 402 - Similarity Score: 0.9469 - ARTS/12413512.pdf\n",
      "\n"
     ]
    }
   ],
   "source": [
    "# Rank candidates for each job description based on similarity scores\n",
    "num_top_candidates = 5\n",
    "top_candidates = []\n",
    "\n",
    "for i, job_description in enumerate(job_descriptions):\n",
    "    candidates_with_scores = list(enumerate(similarity_scores[i]))\n",
    "    candidates_with_scores.sort(key=lambda x: x[1], reverse=True)\n",
    "    top_candidates_for_job = candidates_with_scores[:num_top_candidates]\n",
    "    top_candidates.append(top_candidates_for_job)\n",
    "\n",
    "# Print the top candidates for each job description\n",
    "for i, job_description in enumerate(job_descriptions):\n",
    "    print(f\"Top candidates for JD {i+1} - Postition: {jd_df['position_title'][i]}\")\n",
    "    for candidate_index, score in top_candidates[i]:\n",
    "        print(f\"  Candidate {candidate_index + 1} - Similarity Score: {score:.4f} - {cv_df['Category'][candidate_index]}/{cv_df['ID'][candidate_index]}.pdf\")\n",
    "        # print(f\"  Resume: {resumes[candidate_index]}\")\n",
    "    print()"
   ]
  },
  {
   "cell_type": "code",
   "execution_count": null,
   "id": "41d940fb-d663-4e4c-8e6a-68a312c12a91",
   "metadata": {
    "tags": []
   },
   "outputs": [],
   "source": []
  }
 ],
 "metadata": {
  "kernelspec": {
   "display_name": "Python 3 (ipykernel)",
   "language": "python",
   "name": "python3"
  },
  "language_info": {
   "codemirror_mode": {
    "name": "ipython",
    "version": 3
   },
   "file_extension": ".py",
   "mimetype": "text/x-python",
   "name": "python",
   "nbconvert_exporter": "python",
   "pygments_lexer": "ipython3",
   "version": "3.10.9"
  },
  "widgets": {
   "application/vnd.jupyter.widget-state+json": {
    "state": {},
    "version_major": 2,
    "version_minor": 0
   }
  }
 },
 "nbformat": 4,
 "nbformat_minor": 5
}
