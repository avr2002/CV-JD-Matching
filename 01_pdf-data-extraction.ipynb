{
 "cells": [
  {
   "cell_type": "markdown",
   "id": "d49cffd2-cdf7-41ea-a83e-df7a7294620c",
   "metadata": {
    "tags": []
   },
   "source": [
    "### Imports"
   ]
  },
  {
   "cell_type": "code",
   "execution_count": 1,
   "id": "1f822d0f-724c-4807-9a59-8538229a89f7",
   "metadata": {
    "tags": []
   },
   "outputs": [],
   "source": [
    "import os\n",
    "import re\n",
    "# import PyPDF2\n",
    "import pdfplumber\n",
    "import pandas as pd\n",
    "import numpy as np"
   ]
  },
  {
   "cell_type": "markdown",
   "id": "7353e195-38d8-4481-8157-c755ab0fca0e",
   "metadata": {
    "tags": []
   },
   "source": [
    "### Function to extract text from PDFs "
   ]
  },
  {
   "cell_type": "code",
   "execution_count": 2,
   "id": "8173983a-12f3-4822-9aa7-b45318c9b22a",
   "metadata": {
    "tags": []
   },
   "outputs": [],
   "source": [
    "# Define a function to extract information from a PDF\n",
    "def extract_information(pdf_path):\n",
    "    with pdfplumber.open(pdf_path) as pdf:\n",
    "        resume_text = \"\"\n",
    "        for page in pdf.pages:\n",
    "            resume_text = \" \".join([resume_text, page.extract_text()])\n",
    "    resume_text = resume_text.strip()\n",
    "    return resume_text"
   ]
  },
  {
   "cell_type": "markdown",
   "id": "d40dfae8-f8b9-4751-859a-04b17eaf50cc",
   "metadata": {
    "tags": []
   },
   "source": [
    "### Defining Regex to extract Skills & Education from extracted resume text"
   ]
  },
  {
   "cell_type": "code",
   "execution_count": 3,
   "id": "ba743403-abf0-4790-b288-6d23ee111fe2",
   "metadata": {},
   "outputs": [],
   "source": [
    "# Define a function to extract Skills, and Education\n",
    "def extract_details(resume_text):\n",
    "    # Define regular expressions to extract Skills & Education\n",
    "    skills_pattern = r'Skills\\n([\\s\\S]*?)(?=\\n[A-Z]|$)' \n",
    "    education_pattern = r'Education\\n([\\s\\S]*?)(?=\\n[A-Z][a-z]*\\n|$)'\n",
    "    \n",
    "    # Get Skills & Education\n",
    "    skills_match = re.findall(skills_pattern, resume_text, re.DOTALL)\n",
    "    education_match = re.findall(education_pattern, resume_text, re.DOTALL)\n",
    "    \n",
    "    # Skills & Education\n",
    "    if len(skills_match)!=0:\n",
    "        skills = skills_match[0]\n",
    "    else:\n",
    "        skills_pattern = r'skills\\n((?:.*)*)' \n",
    "        skills_match = re.findall(skills_pattern, resume_text, re.DOTALL)\n",
    "        if len(skills_match)!=0:\n",
    "            skills = skills_match[0]\n",
    "        else:\n",
    "            skills = None\n",
    "            \n",
    "    if len(education_match)!=0:\n",
    "        education = education_match[0]\n",
    "    else:\n",
    "        education = None\n",
    "    \n",
    "    return {\n",
    "        'Skills': skills,\n",
    "        'Education': education\n",
    "    }"
   ]
  },
  {
   "cell_type": "markdown",
   "id": "88729de5-131f-4b18-92aa-28b849defa3e",
   "metadata": {
    "tags": []
   },
   "source": [
    "### Extracting CVs"
   ]
  },
  {
   "cell_type": "code",
   "execution_count": 12,
   "id": "f4aadfa6-7005-446b-8544-ce980691602a",
   "metadata": {
    "scrolled": true,
    "tags": []
   },
   "outputs": [
    {
     "name": "stdout",
     "output_type": "stream",
     "text": [
      "PDF Extraction Done!\n",
      "CPU times: total: 25min 45s\n",
      "Wall time: 26min 29s\n"
     ]
    }
   ],
   "source": [
    "%%time\n",
    "\n",
    "data_folder = 'data'\n",
    "resume_data = []\n",
    "\n",
    "# Iterate through sub-folders and PDF files\n",
    "for category_folder in os.listdir(data_folder):\n",
    "    category_path = os.path.join(data_folder, category_folder)\n",
    "    if os.path.isdir(category_path):\n",
    "        for pdf_file in os.listdir(category_path):\n",
    "            if pdf_file.endswith('.pdf'):\n",
    "                pdf_path = os.path.join(category_path, pdf_file)\n",
    "                # print(pdf_path)\n",
    "                text = extract_information(pdf_path)\n",
    "                details = extract_details(text)\n",
    "                \n",
    "                # Adding Category & ID\n",
    "                details['ID'] = pdf_file.replace('.pdf', '')\n",
    "                details['Category'] = category_folder\n",
    "                \n",
    "                # print(f'File: [{pdf_path}]')\n",
    "                # print(details, end='\\n\\n')\n",
    "                resume_data.append(details)\n",
    "                \n",
    "print('PDF Extraction Done!')"
   ]
  },
  {
   "cell_type": "code",
   "execution_count": 13,
   "id": "0b464d07-4c1c-482e-963d-bee2017e0f6b",
   "metadata": {},
   "outputs": [],
   "source": [
    "resume_df = pd.DataFrame(resume_data)\n",
    "resume_df.to_csv('./pdf_extracted_skills_education.csv', index=False)"
   ]
  },
  {
   "cell_type": "code",
   "execution_count": 14,
   "id": "370c4203-c525-4cac-aad1-b843161f8d96",
   "metadata": {},
   "outputs": [
    {
     "data": {
      "text/plain": [
       "(2484, 4)"
      ]
     },
     "execution_count": 14,
     "metadata": {},
     "output_type": "execute_result"
    }
   ],
   "source": [
    "resume_df.shape"
   ]
  },
  {
   "cell_type": "code",
   "execution_count": null,
   "id": "31613917-f873-47dd-9dc8-4174125ddfaf",
   "metadata": {
    "tags": []
   },
   "outputs": [],
   "source": []
  },
  {
   "cell_type": "markdown",
   "id": "c3348774-c0f9-431d-901b-4a131016c0c0",
   "metadata": {},
   "source": [
    "### Analyzing Null Values"
   ]
  },
  {
   "cell_type": "code",
   "execution_count": 4,
   "id": "7d30658a-fdfb-43cf-8f27-9604b76430c0",
   "metadata": {
    "tags": []
   },
   "outputs": [
    {
     "data": {
      "text/plain": [
       "Skills        91\n",
       "Education    590\n",
       "ID             0\n",
       "Category       0\n",
       "dtype: int64"
      ]
     },
     "execution_count": 4,
     "metadata": {},
     "output_type": "execute_result"
    }
   ],
   "source": [
    "# Null values\n",
    "df.isna().sum()\n",
    "\n",
    "# It seems that Education was not extracted properly"
   ]
  },
  {
   "cell_type": "code",
   "execution_count": 6,
   "id": "2ebd1e3a-ded6-4f84-a3c6-5263d4fbf9d2",
   "metadata": {
    "tags": []
   },
   "outputs": [
    {
     "name": "stdout",
     "output_type": "stream",
     "text": [
      "     Skills Education        ID                Category\n",
      "145     NaN       NaN  17021141                ADVOCATE\n",
      "367     NaN       NaN  31225895                 APPAREL\n",
      "407     NaN       NaN  14248724                    ARTS\n",
      "802     NaN       NaN  12632728    BUSINESS-DEVELOPMENT\n",
      "1047    NaN       NaN  14849103            CONSTRUCTION\n",
      "1270    NaN       NaN  14014749                DESIGNER\n",
      "1357    NaN       NaN  90066849                DESIGNER\n",
      "1492    NaN       NaN  20566550             ENGINEERING\n",
      "1723    NaN       NaN  17576030                 FITNESS\n",
      "1738    NaN       NaN  21178545                 FITNESS\n",
      "1802    NaN       NaN  77266989                 FITNESS\n",
      "1829    NaN       NaN  15499825              HEALTHCARE\n",
      "2078    NaN       NaN  20237244  INFORMATION-TECHNOLOGY\n",
      "2116    NaN       NaN  29051656  INFORMATION-TECHNOLOGY\n",
      "2290    NaN       NaN  16280971                   SALES\n"
     ]
    }
   ],
   "source": [
    "# We have 15 Resumes where Skills & Education were not extracted\n",
    "# So, let's remove them\n",
    "\n",
    "print(df[(df.Skills.isna() & df.Education.isna())])"
   ]
  },
  {
   "cell_type": "code",
   "execution_count": 9,
   "id": "f3f6b14a-0932-4478-b7a1-ee5fca64209c",
   "metadata": {
    "tags": []
   },
   "outputs": [
    {
     "name": "stdout",
     "output_type": "stream",
     "text": [
      "(2469, 4)\n"
     ]
    },
    {
     "data": {
      "text/html": [
       "<div>\n",
       "<style scoped>\n",
       "    .dataframe tbody tr th:only-of-type {\n",
       "        vertical-align: middle;\n",
       "    }\n",
       "\n",
       "    .dataframe tbody tr th {\n",
       "        vertical-align: top;\n",
       "    }\n",
       "\n",
       "    .dataframe thead th {\n",
       "        text-align: right;\n",
       "    }\n",
       "</style>\n",
       "<table border=\"1\" class=\"dataframe\">\n",
       "  <thead>\n",
       "    <tr style=\"text-align: right;\">\n",
       "      <th></th>\n",
       "      <th>Skills</th>\n",
       "      <th>Education</th>\n",
       "      <th>ID</th>\n",
       "      <th>Category</th>\n",
       "    </tr>\n",
       "  </thead>\n",
       "  <tbody>\n",
       "    <tr>\n",
       "      <th>0</th>\n",
       "      <td>Accounting; General Accounting; Accounts Payab...</td>\n",
       "      <td>Northern Maine Community College 1994 Associat...</td>\n",
       "      <td>10554236</td>\n",
       "      <td>ACCOUNTANT</td>\n",
       "    </tr>\n",
       "    <tr>\n",
       "      <th>1</th>\n",
       "      <td>accounting, accounts payable, Accounts Receiva...</td>\n",
       "      <td>Bachelor of Science : Accounting , May 2010 Un...</td>\n",
       "      <td>10674770</td>\n",
       "      <td>ACCOUNTANT</td>\n",
       "    </tr>\n",
       "    <tr>\n",
       "      <th>2</th>\n",
       "      <td>accounts payables, accounts receivables, Accou...</td>\n",
       "      <td>Computer Applications Specialist Certificate P...</td>\n",
       "      <td>11163645</td>\n",
       "      <td>ACCOUNTANT</td>\n",
       "    </tr>\n",
       "    <tr>\n",
       "      <th>3</th>\n",
       "      <td>accounting, balance sheet, budgets, client, cl...</td>\n",
       "      <td>EMORY UNIVERSITY, Goizueta Business School 5 2...</td>\n",
       "      <td>11759079</td>\n",
       "      <td>ACCOUNTANT</td>\n",
       "    </tr>\n",
       "    <tr>\n",
       "      <th>4</th>\n",
       "      <td>Aderant/CMS Financial reporting</td>\n",
       "      <td>Bachelor of Business Administration : Accounti...</td>\n",
       "      <td>12065211</td>\n",
       "      <td>ACCOUNTANT</td>\n",
       "    </tr>\n",
       "  </tbody>\n",
       "</table>\n",
       "</div>"
      ],
      "text/plain": [
       "                                              Skills  \\\n",
       "0  Accounting; General Accounting; Accounts Payab...   \n",
       "1  accounting, accounts payable, Accounts Receiva...   \n",
       "2  accounts payables, accounts receivables, Accou...   \n",
       "3  accounting, balance sheet, budgets, client, cl...   \n",
       "4                    Aderant/CMS Financial reporting   \n",
       "\n",
       "                                           Education        ID    Category  \n",
       "0  Northern Maine Community College 1994 Associat...  10554236  ACCOUNTANT  \n",
       "1  Bachelor of Science : Accounting , May 2010 Un...  10674770  ACCOUNTANT  \n",
       "2  Computer Applications Specialist Certificate P...  11163645  ACCOUNTANT  \n",
       "3  EMORY UNIVERSITY, Goizueta Business School 5 2...  11759079  ACCOUNTANT  \n",
       "4  Bachelor of Business Administration : Accounti...  12065211  ACCOUNTANT  "
      ]
     },
     "execution_count": 9,
     "metadata": {},
     "output_type": "execute_result"
    }
   ],
   "source": [
    "# We are left with 2469 resumes after removing those 15 resumes with null data in both of them\n",
    "\n",
    "print(df[~(df['Skills'].isna() & df['Education'].isna())].shape)\n",
    "\n",
    "cv_df = df[~(df['Skills'].isna() & df['Education'].isna())].reset_index(drop=True)\n",
    "cv_df.head()"
   ]
  },
  {
   "cell_type": "code",
   "execution_count": 26,
   "id": "bd4850ee-243f-40bb-bda6-a4328c9a9908",
   "metadata": {
    "tags": []
   },
   "outputs": [
    {
     "data": {
      "text/plain": [
       "Skills        76\n",
       "Education    575\n",
       "ID             0\n",
       "Category       0\n",
       "dtype: int64"
      ]
     },
     "execution_count": 26,
     "metadata": {},
     "output_type": "execute_result"
    }
   ],
   "source": [
    "# New number of null values in Skills & Education Section\n",
    "cv_df.isna().sum()"
   ]
  },
  {
   "cell_type": "code",
   "execution_count": 10,
   "id": "4b215337-ae9a-4d8e-a290-9bc4bbb8092e",
   "metadata": {
    "tags": []
   },
   "outputs": [
    {
     "data": {
      "text/html": [
       "<div>\n",
       "<style scoped>\n",
       "    .dataframe tbody tr th:only-of-type {\n",
       "        vertical-align: middle;\n",
       "    }\n",
       "\n",
       "    .dataframe tbody tr th {\n",
       "        vertical-align: top;\n",
       "    }\n",
       "\n",
       "    .dataframe thead th {\n",
       "        text-align: right;\n",
       "    }\n",
       "</style>\n",
       "<table border=\"1\" class=\"dataframe\">\n",
       "  <thead>\n",
       "    <tr style=\"text-align: right;\">\n",
       "      <th></th>\n",
       "      <th>Skills</th>\n",
       "      <th>Education</th>\n",
       "      <th>ID</th>\n",
       "      <th>Category</th>\n",
       "    </tr>\n",
       "  </thead>\n",
       "  <tbody>\n",
       "    <tr>\n",
       "      <th>7</th>\n",
       "      <td>NaN</td>\n",
       "      <td>Bachelor of Science , Accounting Strayer Unive...</td>\n",
       "      <td>12442909</td>\n",
       "      <td>ACCOUNTANT</td>\n",
       "    </tr>\n",
       "    <tr>\n",
       "      <th>23</th>\n",
       "      <td>NaN</td>\n",
       "      <td>University of Phoenix Masters of Business Admi...</td>\n",
       "      <td>15363277</td>\n",
       "      <td>ACCOUNTANT</td>\n",
       "    </tr>\n",
       "    <tr>\n",
       "      <th>46</th>\n",
       "      <td>NaN</td>\n",
       "      <td>Masters , Accounting University of Florida ï¼​...</td>\n",
       "      <td>21794875</td>\n",
       "      <td>ACCOUNTANT</td>\n",
       "    </tr>\n",
       "    <tr>\n",
       "      <th>76</th>\n",
       "      <td>NaN</td>\n",
       "      <td>High School Diploma : Business Management/Acco...</td>\n",
       "      <td>27637576</td>\n",
       "      <td>ACCOUNTANT</td>\n",
       "    </tr>\n",
       "    <tr>\n",
       "      <th>115</th>\n",
       "      <td>NaN</td>\n",
       "      <td>Bachelor of Arts : Economics City College of N...</td>\n",
       "      <td>82649935</td>\n",
       "      <td>ACCOUNTANT</td>\n",
       "    </tr>\n",
       "    <tr>\n",
       "      <th>...</th>\n",
       "      <td>...</td>\n",
       "      <td>...</td>\n",
       "      <td>...</td>\n",
       "      <td>...</td>\n",
       "    </tr>\n",
       "    <tr>\n",
       "      <th>2242</th>\n",
       "      <td>NaN</td>\n",
       "      <td>Master of Journalism : PR/Integrated Communica...</td>\n",
       "      <td>59346975</td>\n",
       "      <td>PUBLIC-RELATIONS</td>\n",
       "    </tr>\n",
       "    <tr>\n",
       "      <th>2245</th>\n",
       "      <td>NaN</td>\n",
       "      <td>B.A : Marketing June 2005 Berkeley College Mar...</td>\n",
       "      <td>75329822</td>\n",
       "      <td>PUBLIC-RELATIONS</td>\n",
       "    </tr>\n",
       "    <tr>\n",
       "      <th>2387</th>\n",
       "      <td>NaN</td>\n",
       "      <td>Plans.\\nApplied progressive teaching principle...</td>\n",
       "      <td>17481570</td>\n",
       "      <td>TEACHER</td>\n",
       "    </tr>\n",
       "    <tr>\n",
       "      <th>2417</th>\n",
       "      <td>NaN</td>\n",
       "      <td>Ph.D. : Philosophy in Education , 2019\\nNorthc...</td>\n",
       "      <td>27126818</td>\n",
       "      <td>TEACHER</td>\n",
       "    </tr>\n",
       "    <tr>\n",
       "      <th>2452</th>\n",
       "      <td>NaN</td>\n",
       "      <td>Ph.D , Counseling Psychology 2012 Walden Unive...</td>\n",
       "      <td>58665241</td>\n",
       "      <td>TEACHER</td>\n",
       "    </tr>\n",
       "  </tbody>\n",
       "</table>\n",
       "<p>76 rows × 4 columns</p>\n",
       "</div>"
      ],
      "text/plain": [
       "     Skills                                          Education        ID  \\\n",
       "7       NaN  Bachelor of Science , Accounting Strayer Unive...  12442909   \n",
       "23      NaN  University of Phoenix Masters of Business Admi...  15363277   \n",
       "46      NaN  Masters , Accounting University of Florida ï¼​...  21794875   \n",
       "76      NaN  High School Diploma : Business Management/Acco...  27637576   \n",
       "115     NaN  Bachelor of Arts : Economics City College of N...  82649935   \n",
       "...     ...                                                ...       ...   \n",
       "2242    NaN  Master of Journalism : PR/Integrated Communica...  59346975   \n",
       "2245    NaN  B.A : Marketing June 2005 Berkeley College Mar...  75329822   \n",
       "2387    NaN  Plans.\\nApplied progressive teaching principle...  17481570   \n",
       "2417    NaN  Ph.D. : Philosophy in Education , 2019\\nNorthc...  27126818   \n",
       "2452    NaN  Ph.D , Counseling Psychology 2012 Walden Unive...  58665241   \n",
       "\n",
       "              Category  \n",
       "7           ACCOUNTANT  \n",
       "23          ACCOUNTANT  \n",
       "46          ACCOUNTANT  \n",
       "76          ACCOUNTANT  \n",
       "115         ACCOUNTANT  \n",
       "...                ...  \n",
       "2242  PUBLIC-RELATIONS  \n",
       "2245  PUBLIC-RELATIONS  \n",
       "2387           TEACHER  \n",
       "2417           TEACHER  \n",
       "2452           TEACHER  \n",
       "\n",
       "[76 rows x 4 columns]"
      ]
     },
     "execution_count": 10,
     "metadata": {},
     "output_type": "execute_result"
    }
   ],
   "source": [
    "# Null values in Skills Section\n",
    "cv_df[cv_df.Skills.isna()]"
   ]
  },
  {
   "cell_type": "code",
   "execution_count": 11,
   "id": "b5b41e30-bc4b-4d4d-a946-49dafe207994",
   "metadata": {
    "tags": []
   },
   "outputs": [
    {
     "data": {
      "text/html": [
       "<div>\n",
       "<style scoped>\n",
       "    .dataframe tbody tr th:only-of-type {\n",
       "        vertical-align: middle;\n",
       "    }\n",
       "\n",
       "    .dataframe tbody tr th {\n",
       "        vertical-align: top;\n",
       "    }\n",
       "\n",
       "    .dataframe thead th {\n",
       "        text-align: right;\n",
       "    }\n",
       "</style>\n",
       "<table border=\"1\" class=\"dataframe\">\n",
       "  <thead>\n",
       "    <tr style=\"text-align: right;\">\n",
       "      <th></th>\n",
       "      <th>Skills</th>\n",
       "      <th>Education</th>\n",
       "      <th>ID</th>\n",
       "      <th>Category</th>\n",
       "    </tr>\n",
       "  </thead>\n",
       "  <tbody>\n",
       "    <tr>\n",
       "      <th>11</th>\n",
       "      <td>Budget forecasting expertise General ledger ac...</td>\n",
       "      <td>NaN</td>\n",
       "      <td>13130984</td>\n",
       "      <td>ACCOUNTANT</td>\n",
       "    </tr>\n",
       "    <tr>\n",
       "      <th>13</th>\n",
       "      <td>Full Accounting cycle Auditing</td>\n",
       "      <td>NaN</td>\n",
       "      <td>13491889</td>\n",
       "      <td>ACCOUNTANT</td>\n",
       "    </tr>\n",
       "    <tr>\n",
       "      <th>20</th>\n",
       "      <td>account reconciliations, Accounting, accruals,...</td>\n",
       "      <td>NaN</td>\n",
       "      <td>14491649</td>\n",
       "      <td>ACCOUNTANT</td>\n",
       "    </tr>\n",
       "    <tr>\n",
       "      <th>29</th>\n",
       "      <td>Accounting, billing, Change Management, contra...</td>\n",
       "      <td>NaN</td>\n",
       "      <td>17407184</td>\n",
       "      <td>ACCOUNTANT</td>\n",
       "    </tr>\n",
       "    <tr>\n",
       "      <th>31</th>\n",
       "      <td>Analytical reasoning Effective time management</td>\n",
       "      <td>NaN</td>\n",
       "      <td>18132924</td>\n",
       "      <td>ACCOUNTANT</td>\n",
       "    </tr>\n",
       "    <tr>\n",
       "      <th>...</th>\n",
       "      <td>...</td>\n",
       "      <td>...</td>\n",
       "      <td>...</td>\n",
       "      <td>...</td>\n",
       "    </tr>\n",
       "    <tr>\n",
       "      <th>2442</th>\n",
       "      <td>Anatomy, Arts, EMR software, front office, inj...</td>\n",
       "      <td>NaN</td>\n",
       "      <td>37402097</td>\n",
       "      <td>TEACHER</td>\n",
       "    </tr>\n",
       "    <tr>\n",
       "      <th>2446</th>\n",
       "      <td>Behavior modeling Troubleshooting</td>\n",
       "      <td>NaN</td>\n",
       "      <td>45987048</td>\n",
       "      <td>TEACHER</td>\n",
       "    </tr>\n",
       "    <tr>\n",
       "      <th>2453</th>\n",
       "      <td>Computer literate, drivers, listening, natural...</td>\n",
       "      <td>NaN</td>\n",
       "      <td>58708773</td>\n",
       "      <td>TEACHER</td>\n",
       "    </tr>\n",
       "    <tr>\n",
       "      <th>2458</th>\n",
       "      <td>â€¢ Well versed with the standards of hygiene ...</td>\n",
       "      <td>NaN</td>\n",
       "      <td>69005326</td>\n",
       "      <td>TEACHER</td>\n",
       "    </tr>\n",
       "    <tr>\n",
       "      <th>2468</th>\n",
       "      <td>Superb communication both verbal and written.</td>\n",
       "      <td>NaN</td>\n",
       "      <td>99244405</td>\n",
       "      <td>TEACHER</td>\n",
       "    </tr>\n",
       "  </tbody>\n",
       "</table>\n",
       "<p>575 rows × 4 columns</p>\n",
       "</div>"
      ],
      "text/plain": [
       "                                                 Skills Education        ID  \\\n",
       "11    Budget forecasting expertise General ledger ac...       NaN  13130984   \n",
       "13                       Full Accounting cycle Auditing       NaN  13491889   \n",
       "20    account reconciliations, Accounting, accruals,...       NaN  14491649   \n",
       "29    Accounting, billing, Change Management, contra...       NaN  17407184   \n",
       "31       Analytical reasoning Effective time management       NaN  18132924   \n",
       "...                                                 ...       ...       ...   \n",
       "2442  Anatomy, Arts, EMR software, front office, inj...       NaN  37402097   \n",
       "2446                  Behavior modeling Troubleshooting       NaN  45987048   \n",
       "2453  Computer literate, drivers, listening, natural...       NaN  58708773   \n",
       "2458  â€¢ Well versed with the standards of hygiene ...       NaN  69005326   \n",
       "2468      Superb communication both verbal and written.       NaN  99244405   \n",
       "\n",
       "        Category  \n",
       "11    ACCOUNTANT  \n",
       "13    ACCOUNTANT  \n",
       "20    ACCOUNTANT  \n",
       "29    ACCOUNTANT  \n",
       "31    ACCOUNTANT  \n",
       "...          ...  \n",
       "2442     TEACHER  \n",
       "2446     TEACHER  \n",
       "2453     TEACHER  \n",
       "2458     TEACHER  \n",
       "2468     TEACHER  \n",
       "\n",
       "[575 rows x 4 columns]"
      ]
     },
     "execution_count": 11,
     "metadata": {},
     "output_type": "execute_result"
    }
   ],
   "source": [
    "# Null values in Education Section\n",
    "cv_df[cv_df.Education.isna()]"
   ]
  },
  {
   "cell_type": "markdown",
   "id": "6c41827c-6c44-412a-a905-13170bfc3ce7",
   "metadata": {},
   "source": [
    "### Distribution of Different Resumes"
   ]
  },
  {
   "cell_type": "code",
   "execution_count": 15,
   "id": "2f59603b-f3ff-4754-aad8-5207afffd8d8",
   "metadata": {
    "tags": []
   },
   "outputs": [
    {
     "data": {
      "text/plain": [
       "Category\n",
       "BUSINESS-DEVELOPMENT      119\n",
       "ACCOUNTANT                118\n",
       "INFORMATION-TECHNOLOGY    118\n",
       "FINANCE                   118\n",
       "CHEF                      118\n",
       "ENGINEERING               117\n",
       "AVIATION                  117\n",
       "ADVOCATE                  117\n",
       "SALES                     115\n",
       "CONSULTANT                115\n",
       "BANKING                   115\n",
       "FITNESS                   114\n",
       "HEALTHCARE                114\n",
       "CONSTRUCTION              111\n",
       "PUBLIC-RELATIONS          111\n",
       "HR                        110\n",
       "DESIGNER                  105\n",
       "ARTS                      102\n",
       "TEACHER                   102\n",
       "DIGITAL-MEDIA              96\n",
       "APPAREL                    96\n",
       "AGRICULTURE                63\n",
       "AUTOMOBILE                 36\n",
       "BPO                        22\n",
       "Name: count, dtype: int64"
      ]
     },
     "execution_count": 15,
     "metadata": {},
     "output_type": "execute_result"
    }
   ],
   "source": [
    "cv_df.Category.value_counts()"
   ]
  },
  {
   "cell_type": "code",
   "execution_count": 24,
   "id": "a774fe34-5085-4571-ab0e-6f1eacba44bc",
   "metadata": {
    "tags": []
   },
   "outputs": [
    {
     "data": {
      "image/png": "[encoded data removed]",
      "text/plain": [
       "<Figure size 800x800 with 1 Axes>"
      ]
     },
     "metadata": {},
     "output_type": "display_data"
    }
   ],
   "source": [
    "# We can see here the distribution of different CV categories\n",
    "\n",
    "plt.figure(figsize=(8,8))\n",
    "\n",
    "cv_df.Category.value_counts().plot(kind='barh')\n",
    "\n",
    "for index, value in enumerate(cv_df.Category.value_counts().values):\n",
    "    plt.text(value, index, str(value))\n",
    "    \n",
    "plt.show();"
   ]
  },
  {
   "cell_type": "code",
   "execution_count": 25,
   "id": "695760da-bc0a-4d78-b7c5-2ab6a9de4c8f",
   "metadata": {
    "tags": []
   },
   "outputs": [
    {
     "data": {
      "text/plain": [
       "Skills        76\n",
       "Education    575\n",
       "ID             0\n",
       "Category       0\n",
       "dtype: int64"
      ]
     },
     "execution_count": 25,
     "metadata": {},
     "output_type": "execute_result"
    }
   ],
   "source": []
  },
  {
   "cell_type": "code",
   "execution_count": null,
   "id": "ccd1c447-0771-4d53-8d32-3bd08df04ff7",
   "metadata": {},
   "outputs": [],
   "source": []
  }
 ],
 "metadata": {
  "kernelspec": {
   "display_name": "Python 3 (ipykernel)",
   "language": "python",
   "name": "python3"
  },
  "language_info": {
   "codemirror_mode": {
    "name": "ipython",
    "version": 3
   },
   "file_extension": ".py",
   "mimetype": "text/x-python",
   "name": "python",
   "nbconvert_exporter": "python",
   "pygments_lexer": "ipython3",
   "version": "3.10.9"
  },
  "widgets": {
   "application/vnd.jupyter.widget-state+json": {
    "state": {},
    "version_major": 2,
    "version_minor": 0
   }
  }
 },
 "nbformat": 4,
 "nbformat_minor": 5
}
