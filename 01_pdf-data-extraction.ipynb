{
 "cells": [
  {
   "cell_type": "code",
   "execution_count": 1,
   "id": "1f822d0f-724c-4807-9a59-8538229a89f7",
   "metadata": {
    "tags": []
   },
   "outputs": [],
   "source": [
    "import os\n",
    "import re\n",
    "# import PyPDF2\n",
    "import pdfplumber\n",
    "import pandas as pd\n",
    "import numpy as np"
   ]
  },
  {
   "cell_type": "code",
   "execution_count": 2,
   "id": "8173983a-12f3-4822-9aa7-b45318c9b22a",
   "metadata": {},
   "outputs": [],
   "source": [
    "# Define a function to extract information from a PDF\n",
    "def extract_information(pdf_path):\n",
    "    with pdfplumber.open(pdf_path) as pdf:\n",
    "        resume_text = \"\"\n",
    "        for page in pdf.pages:\n",
    "            resume_text = \" \".join([resume_text, page.extract_text()])\n",
    "    resume_text = resume_text.strip()\n",
    "    return resume_text"
   ]
  },
  {
   "cell_type": "code",
   "execution_count": 3,
   "id": "ba743403-abf0-4790-b288-6d23ee111fe2",
   "metadata": {},
   "outputs": [],
   "source": [
    "# Define a function to extract Skills, and Education\n",
    "def extract_details(resume_text):\n",
    "    # Define regular expressions to extract Skills & Education\n",
    "    skills_pattern = r'Skills\\n([\\s\\S]*?)(?=\\n[A-Z]|$)' \n",
    "    education_pattern = r'Education\\n([\\s\\S]*?)(?=\\n[A-Z][a-z]*\\n|$)'\n",
    "    \n",
    "    # Get Skills & Education\n",
    "    skills_match = re.findall(skills_pattern, resume_text, re.DOTALL)\n",
    "    education_match = re.findall(education_pattern, resume_text, re.DOTALL)\n",
    "    \n",
    "    # Skills & Education\n",
    "    if len(skills_match)!=0:\n",
    "        skills = skills_match[0]\n",
    "    else:\n",
    "        skills_pattern = r'skills\\n((?:.*)*)' \n",
    "        skills_match = re.findall(skills_pattern, resume_text, re.DOTALL)\n",
    "        if len(skills_match)!=0:\n",
    "            skills = skills_match[0]\n",
    "        else:\n",
    "            skills = None\n",
    "            \n",
    "    if len(education_match)!=0:\n",
    "        education = education_match[0]\n",
    "    else:\n",
    "        education = None\n",
    "    \n",
    "    return {\n",
    "        'Skills': skills,\n",
    "        'Education': education\n",
    "    }"
   ]
  },
  {
   "cell_type": "code",
   "execution_count": 12,
   "id": "f4aadfa6-7005-446b-8544-ce980691602a",
   "metadata": {
    "scrolled": true,
    "tags": []
   },
   "outputs": [
    {
     "name": "stdout",
     "output_type": "stream",
     "text": [
      "PDF Extraction Done!\n",
      "CPU times: total: 25min 45s\n",
      "Wall time: 26min 29s\n"
     ]
    }
   ],
   "source": [
    "%%time\n",
    "\n",
    "data_folder = 'data'\n",
    "resume_data = []\n",
    "\n",
    "# Iterate through sub-folders and PDF files\n",
    "for category_folder in os.listdir(data_folder):\n",
    "    category_path = os.path.join(data_folder, category_folder)\n",
    "    if os.path.isdir(category_path):\n",
    "        for pdf_file in os.listdir(category_path):\n",
    "            if pdf_file.endswith('.pdf'):\n",
    "                pdf_path = os.path.join(category_path, pdf_file)\n",
    "                # print(pdf_path)\n",
    "                text = extract_information(pdf_path)\n",
    "                details = extract_details(text)\n",
    "                \n",
    "                # Adding Category & ID\n",
    "                details['ID'] = pdf_file.replace('.pdf', '')\n",
    "                details['Category'] = category_folder\n",
    "                \n",
    "                # print(f'File: [{pdf_path}]')\n",
    "                # print(details, end='\\n\\n')\n",
    "                resume_data.append(details)\n",
    "                \n",
    "print('PDF Extraction Done!')"
   ]
  },
  {
   "cell_type": "code",
   "execution_count": 13,
   "id": "0b464d07-4c1c-482e-963d-bee2017e0f6b",
   "metadata": {},
   "outputs": [],
   "source": [
    "resume_df = pd.DataFrame(resume_data)\n",
    "resume_df.to_csv('./pdf_extracted_skills_education.csv', index=False)"
   ]
  },
  {
   "cell_type": "code",
   "execution_count": 14,
   "id": "370c4203-c525-4cac-aad1-b843161f8d96",
   "metadata": {},
   "outputs": [
    {
     "data": {
      "text/plain": [
       "(2484, 4)"
      ]
     },
     "execution_count": 14,
     "metadata": {},
     "output_type": "execute_result"
    }
   ],
   "source": [
    "resume_df.shape"
   ]
  },
  {
   "cell_type": "code",
   "execution_count": null,
   "id": "c8e5ec6c-11e6-4c01-986b-58c33a365b16",
   "metadata": {},
   "outputs": [],
   "source": []
  }
 ],
 "metadata": {
  "kernelspec": {
   "display_name": "Python 3 (ipykernel)",
   "language": "python",
   "name": "python3"
  },
  "language_info": {
   "codemirror_mode": {
    "name": "ipython",
    "version": 3
   },
   "file_extension": ".py",
   "mimetype": "text/x-python",
   "name": "python",
   "nbconvert_exporter": "python",
   "pygments_lexer": "ipython3",
   "version": "3.10.9"
  },
  "widgets": {
   "application/vnd.jupyter.widget-state+json": {
    "state": {},
    "version_major": 2,
    "version_minor": 0
   }
  }
 },
 "nbformat": 4,
 "nbformat_minor": 5
}
